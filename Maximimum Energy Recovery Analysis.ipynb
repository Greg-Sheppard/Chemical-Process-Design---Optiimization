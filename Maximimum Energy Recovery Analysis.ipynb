{
 "cells": [
  {
   "cell_type": "code",
   "execution_count": 1,
   "metadata": {
    "collapsed": true
   },
   "outputs": [],
   "source": [
    "import numpy as np"
   ]
  },
  {
   "cell_type": "code",
   "execution_count": 24,
   "metadata": {
    "collapsed": true
   },
   "outputs": [],
   "source": [
    "# Hot and cold numbered streams with properties such as heat capacities, starting/ending temperatures (actual and \"shifted\"),\n",
    "# and temperature/enthalpy changes between their start and end points\n",
    "class Stream:\n",
    "    def __init__(self):\n",
    "        self.num = 0\n",
    "        self.cp = 0\n",
    "        self.Ts = 0\n",
    "        self.Tf = 0\n",
    "        self.type = ''\n",
    "        self.Ss = 0\n",
    "        self.Sf = 0\n",
    "        self.dT = 0\n",
    "        self.dH = 0\n",
    "\n",
    "# Temperature interval wherein a certain amount of heat should be transferred based purely on the thermodynamics\n",
    "# of each stream operating within that interval. These hold many similar properties to streams since they are an abstract\n",
    "# compilation of the properties of each stream acting in a given interval.\n",
    "class Interval:\n",
    "    def __init__(self):\n",
    "        self.num = 0\n",
    "        self.Ss = 0\n",
    "        self.Sf = 0\n",
    "        self.dT = 0\n",
    "        self.dCp = 0\n",
    "        self.dH = 0\n",
    "        self.SD = ''"
   ]
  },
  {
   "cell_type": "code",
   "execution_count": 29,
   "metadata": {
    "collapsed": true
   },
   "outputs": [],
   "source": [
    "# Only user inputs required - arrays can be any length so long as all arrays match length/indices\n",
    "\n",
    "streams = [1,2,3,4]  # Numerical list of streams\n",
    "cp = [2,3,4,1.5]     # Each stream's specific heat capacity\n",
    "Ts = [20,170,80,150] # Each stream's starting temperature\n",
    "Tf = [135,60,140,30] # Each stream's ending temperature\n",
    "dTmin = 10           # The minimum temperature difference desired between hot and cold streams in a countercurrent heat exchanger"
   ]
  },
  {
   "cell_type": "code",
   "execution_count": 55,
   "metadata": {},
   "outputs": [
    {
     "name": "stdout",
     "output_type": "stream",
     "text": [
      "Interval Temperatures:  [165.0, 145.0, 140.0, 85.0, 55.0, 25.0]\n",
      "\n",
      "Interval 1 begins at Ts = 165.0 and ends at Tf = 145.0 with dCp = -3 and dH = -60.0\n",
      "\n",
      "Interval 2 begins at Ts = 145.0 and ends at Tf = 140.0 with dCp = -0.5 and dH = -2.5\n",
      "\n",
      "Interval 3 begins at Ts = 140.0 and ends at Tf = 85.0 with dCp = 1.5 and dH = 82.5\n",
      "\n",
      "Interval 4 begins at Ts = 85.0 and ends at Tf = 55.0 with dCp = -2.5 and dH = -75.0\n",
      "\n",
      "Interval 5 begins at Ts = 55.0 and ends at Tf = 25.0 with dCp = 0.5 and dH = 15.0\n",
      "\n",
      "Interval Enthalpies:  [-60.0, -2.5, 82.5, -75.0, 15.0]\n",
      "Pinch point is at interval 3. Need 20.0 more energy.\n",
      "Cascade: [-60.0, -62.5, 20.0, -55.0, -40.0]\n",
      "\n",
      "Adjusted Cascade: [-80.0, -82.5, 0.0, -75.0, -60.0]\n",
      "\n",
      "Pinch Point: 85.0 deg C \n",
      "Qhmin = 20.0 \n",
      "Qcmin = 60.0\n"
     ]
    }
   ],
   "source": [
    "intervals = []\n",
    "\n",
    "# This loop assesses whether each stream is hot/cold (based on if its temperature decreases or increases) and then creates \n",
    "# an object possessing shifted temperatures as well as corresponding changes in shifted temperatures and enthalpy\n",
    "for i in range(len(streams)):\n",
    "    s = Stream()\n",
    "    s.num = streams[i]\n",
    "    s.cp = cp[i]\n",
    "    s.Ts = Ts[i]\n",
    "    s.Tf = Tf[i]\n",
    "    \n",
    "    if s.Ts < s.Tf:\n",
    "        s.type = 'C'\n",
    "        s.Ss = s.Ts + dTmin/2\n",
    "        s.Sf = s.Tf + dTmin/2\n",
    "        s.dT = s.Sf - s.Ss\n",
    "        s.dH = s.cp*s.dT\n",
    "        \n",
    "    elif s.Ts > s.Tf:\n",
    "        s.type = 'H'\n",
    "        s.Ss = s.Ts - dTmin/2\n",
    "        s.Sf = s.Tf - dTmin/2\n",
    "        s.dT = s.Sf - s.Ss\n",
    "        s.dH = s.cp*s.dT\n",
    "        \n",
    "    streams[i] = s\n",
    "\n",
    "# Creating a basic list of shifte temperature intervals for a \"heat cascade\" that can be printed at completion \n",
    "temps = []\n",
    "for i in range(0,len(streams)):\n",
    "    temps.append(streams[i].Ss)\n",
    "    temps.append(streams[i].Sf)\n",
    "\n",
    "# Removing duplicate temperature interval values\n",
    "temps = list(reversed(sorted(list(set(temps)))))\n",
    "print('Interval Temperatures: ', temps)\n",
    "\n",
    "enthalpies = []\n",
    "cascade = []\n",
    "adjCascade = []\n",
    "intervals = []\n",
    "\n",
    "# Creates interval objects in the same vein as those created for individual streams\n",
    "for i in range(0,len(temps)-1):\n",
    "    interval = Interval()\n",
    "    interval.num = i+1\n",
    "    interval.Ss = temps[i]\n",
    "    interval.Sf = temps[i+1]\n",
    "    interval.dT = temps[i]-temps[i+1]\n",
    "    interval.dCp = 0\n",
    "    \n",
    "    # Determines which streams the interval contains for enthalpy calculations\n",
    "    for j in streams:\n",
    "        if j.type == 'H' and j.Ss >= interval.Ss and j.Sf <= interval.Sf:\n",
    "            interval.dCp -= j.cp\n",
    "            \n",
    "        elif j.type == 'C' and j.Ss <= interval.Sf and j.Sf >= interval.Ss:\n",
    "            interval.dCp += j.cp\n",
    "    \n",
    "    interval.dH = interval.dCp*interval.dT\n",
    "    print('\\nInterval %s begins at Ts = %s and ends at Tf = %s with dCp = %s and dH = %s'\n",
    "         % (interval.num, interval.Ss, interval.Sf, interval.dCp, interval.dH))\n",
    "    \n",
    "    intervals.append(interval)\n",
    "    enthalpies.append(interval.dH)\n",
    "    \n",
    "print('\\nInterval Enthalpies: ', enthalpies)\n",
    "\n",
    "H = 0\n",
    "pinch = 0\n",
    "adj = 0\n",
    "\n",
    "#Determines the \"pinch point\" where heat exchange feasibility is most restricted\n",
    "for i in range(0,len(enthalpies)):\n",
    "    H += enthalpies[i]\n",
    "    cascade.append(H)\n",
    "    if H > 0:\n",
    "        pinch = i+1\n",
    "        adj = H\n",
    "        print('Pinch point is at interval %s. Need %s more energy.' % (pinch, H))\n",
    "\n",
    "# Prints the heat cascade intervals (including pinch)\n",
    "print('Cascade: %s' % cascade)\n",
    "        \n",
    "# Adjusts and prints the heat cascade for pinch point heat requirements\n",
    "for i in range(0,len(cascade)):\n",
    "    adjCascade.append(cascade[i]-adj)\n",
    "    \n",
    "print('\\nAdjusted Cascade: %s' % adjCascade)\n",
    "print('\\nPinch Point: %s deg C \\nQhmin = %s \\nQcmin = %s' % (temps[pinch], adj, abs(adjCascade[-1])))"
   ]
  },
  {
   "cell_type": "code",
   "execution_count": null,
   "metadata": {
    "collapsed": true
   },
   "outputs": [],
   "source": []
  }
 ],
 "metadata": {
  "kernelspec": {
   "display_name": "Python 3",
   "language": "python",
   "name": "python3"
  },
  "language_info": {
   "codemirror_mode": {
    "name": "ipython",
    "version": 3
   },
   "file_extension": ".py",
   "mimetype": "text/x-python",
   "name": "python",
   "nbconvert_exporter": "python",
   "pygments_lexer": "ipython3",
   "version": "3.6.2"
  }
 },
 "nbformat": 4,
 "nbformat_minor": 2
}
